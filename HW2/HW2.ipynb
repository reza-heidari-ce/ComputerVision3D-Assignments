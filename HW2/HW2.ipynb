{
 "cells": [
  {
   "cell_type": "markdown",
   "metadata": {
    "id": "IHZfoNCmBVO-"
   },
   "source": [
    "Name: "
   ]
  },
  {
   "cell_type": "markdown",
   "metadata": {
    "id": "Imp0o_BDMPc4"
   },
   "source": [
    "**Part 1**\n",
    "\n",
    " Write two functions named \"camera_matrix\" and \"camera_projection\". The first one gets all the camera parameters, containing λ, f (focal length), Sx, Sy, Sθ, Ox, Oy, R, T, and returns the camera matrix (Please provide comments above each stage of transformation). The second function projects a given 3D point on image and returns a 2D point in pixel coordinates."
   ]
  },
  {
   "cell_type": "code",
   "execution_count": 187,
   "metadata": {
    "id": "YCw0SrVcBRpe"
   },
   "outputs": [],
   "source": [
    "import numpy as np\n",
    "def camer_matrix(landa, f, Sx, Sy, S_theta, Ox, Oy, R, T):\n",
    "\n",
    "    # implement your function here\n",
    "\n",
    "    # K is the calibration matrix\n",
    "    K = np.array([[f*Sx, f*S_theta, Ox], [0, f*Sy, Oy], [0, 0, 1]])\n",
    "\n",
    "    # pi_0_matrix\n",
    "    pi_0 = np.array([[1, 0, 0, 0], [0, 1, 0, 0], [0, 0, 1, 0]])\n",
    "\n",
    "    # g matrix is [[R, T], [0, 1]]\n",
    "    g = np.hstack((R, T.T))\n",
    "    g = np.vstack((g, np.array([[0, 0, 0, 1]])))\n",
    "\n",
    "    #computing camera matrix\n",
    "    matrix = (1/landa) * K @ pi_0 @ g\n",
    "\n",
    "    return matrix\n",
    "\n",
    "def camera_projection(X, Y, Z, matrix):\n",
    "\n",
    "    # implement your function here\n",
    "\n",
    "    # X, Y, Z are the coordinates of the point in the world frame\n",
    "    # matrix is the camera matrix\n",
    "    # x, y are the coordinates of the point in the image frame\n",
    "    projection = matrix @ np.array([[X], [Y], [Z], [1]])\n",
    "    projection = projection.flatten()\n",
    "    # normalize to get x , y in 2d space\n",
    "    x = projection[0] / projection[2]\n",
    "    y = projection[1] / projection[2]\n",
    "    return x, y\n"
   ]
  },
  {
   "cell_type": "markdown",
   "metadata": {
    "id": "sNDAg8TtSmHY"
   },
   "source": [
    "**Part 2**\n",
    "\n",
    "Consider a pinhole camera with center located at (1, 1, -3), which its focal length is 100, scale factors (Sx, Sy) are both 1 and pixel coordinates of principal point is (50, 50). Also skew parameter is zero. The angle of the camera is such that the optical axis of the camera is parallel to the z axis. Using the previous function obtain the whole camera matrix."
   ]
  },
  {
   "cell_type": "code",
   "execution_count": 188,
   "metadata": {},
   "outputs": [
    {
     "name": "stdout",
     "output_type": "stream",
     "text": [
      "[[100.   0.  50.  50.]\n",
      " [  0. 100.  50.  50.]\n",
      " [  0.   0.   1.   3.]]\n"
     ]
    }
   ],
   "source": [
    "T = -np.array([[1, 1, -3]])\n",
    "R = np.eye(3)\n",
    "landa = 1\n",
    "matrix = camer_matrix(landa, 100, 1, 1, 0, 50, 50, R, T)\n",
    "print(matrix)"
   ]
  },
  {
   "cell_type": "markdown",
   "metadata": {
    "id": "5jGzVpW-TFIb"
   },
   "source": [
    "**Part 3**\n",
    "\n",
    "Suppose that vector V: (0, 1, 1) is located at (1, 1, 3) in 3D space. Apply the obtained camera matrix to V. Plot the result in pixel coordinates in a 2D plot. From which step of projection the length of the vector changes?\n",
    "\n",
    "Answer: length of the vector changes after multiplying with the calibration matrix (K). This happens due to the scale factors that exist in the calibration matrix."
   ]
  },
  {
   "cell_type": "code",
   "execution_count": 189,
   "metadata": {
    "id": "hxRF8-MLTbFZ"
   },
   "outputs": [
    {
     "name": "stdout",
     "output_type": "stream",
     "text": [
      "length of vector before projection is 1.4142135623730951\n",
      "length of vector after projection is 14.285714285714292\n"
     ]
    },
    {
     "data": {
      "image/png": "[encoded data removed]",
      "text/plain": [
       "<Figure size 640x480 with 1 Axes>"
      ]
     },
     "metadata": {},
     "output_type": "display_data"
    }
   ],
   "source": [
    "import matplotlib.pyplot as plt\n",
    "\n",
    "def draw_proj(matrix):\n",
    "    p1 = np.array([1, 1, 3])\n",
    "    p2 = p1 + np.array([0, 1, 1])\n",
    "    print(f'length of vector before projection is {np.linalg.norm(p2 - p1)}')\n",
    "    p1_proj = camera_projection(p1[0], p1[1], p1[2], matrix)\n",
    "    p2_proj = camera_projection(p2[0], p2[1], p2[2], matrix)\n",
    "    print(f'length of vector after projection is {np.linalg.norm(np.array(p2_proj) - np.array(p1_proj))}')\n",
    "\n",
    "    #plotting the results\n",
    "    fig = plt.figure()\n",
    "    ax = fig.add_subplot(111)\n",
    "\n",
    "    ax.plot([p1_proj[0],p2_proj[0]],[p1_proj[1],p2_proj[1]])\n",
    "    ax.set_xlabel('X Label')\n",
    "    ax.set_ylabel('Y Label')\n",
    "    plt.show()\n",
    "\n",
    "draw_proj(matrix)"
   ]
  },
  {
   "cell_type": "markdown",
   "metadata": {
    "id": "DhVMnoXWbYcM"
   },
   "source": [
    "**Part 4**\n",
    "\n",
    "If the camera is rotated by +25 degrees around x axis, how would R and T change? What would the final image be?"
   ]
  },
  {
   "cell_type": "code",
   "execution_count": 190,
   "metadata": {
    "id": "RWnW4HvgbhVB"
   },
   "outputs": [
    {
     "name": "stdout",
     "output_type": "stream",
     "text": [
      "length of vector before projection is 1.4142135623730951\n",
      "length of vector after projection is 10.418428558535584\n"
     ]
    },
    {
     "data": {
      "image/png": "[encoded data removed]",
      "text/plain": [
       "<Figure size 640x480 with 1 Axes>"
      ]
     },
     "metadata": {},
     "output_type": "display_data"
    }
   ],
   "source": [
    "# T would not change\n",
    "# R would change to below\n",
    "T = -np.array([[1, 1, -3]])\n",
    "teta = (25/180)* np.pi\n",
    "R = np.array([[1, 0, 0],[0, np.cos(teta), -np.sin(teta)],[0, np.sin(teta), np.cos(teta)]])\n",
    "matrix = camer_matrix(landa, 100, 1, 1, 0, 50, 50, R, T)\n",
    "draw_proj(matrix)"
   ]
  }
 ],
 "metadata": {
  "colab": {
   "provenance": []
  },
  "kernelspec": {
   "display_name": "Python 3 (ipykernel)",
   "language": "python",
   "name": "python3"
  },
  "language_info": {
   "codemirror_mode": {
    "name": "ipython",
    "version": 3
   },
   "file_extension": ".py",
   "mimetype": "text/x-python",
   "name": "python",
   "nbconvert_exporter": "python",
   "pygments_lexer": "ipython3",
   "version": "3.10.4"
  }
 },
 "nbformat": 4,
 "nbformat_minor": 1
}
